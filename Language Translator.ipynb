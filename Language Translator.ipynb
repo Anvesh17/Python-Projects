{
 "cells": [
  {
   "cell_type": "code",
   "execution_count": 1,
   "metadata": {},
   "outputs": [
    {
     "name": "stdout",
     "output_type": "stream",
     "text": [
      "Processing c:\\users\\boini\\appdata\\local\\pip\\cache\\wheels\\20\\da\\eb\\a54579056f265eede0417df537dd56d3df5b9eb2b25df0003d\\googletrans-3.0.0-py3-none-any.whlNote: you may need to restart the kernel to use updated packages.\n",
      "Collecting httpx==0.13.3\n",
      "  Using cached httpx-0.13.3-py3-none-any.whl (55 kB)\n",
      "Requirement already satisfied: certifi in c:\\users\\boini\\anaconda3\\envs\\tensorflow\\lib\\site-packages (from httpx==0.13.3->googletrans) (2020.6.20)\n",
      "Collecting rfc3986<2,>=1.3\n",
      "  Using cached rfc3986-1.4.0-py2.py3-none-any.whl (31 kB)\n",
      "Requirement already satisfied: chardet==3.* in c:\\users\\boini\\anaconda3\\envs\\tensorflow\\lib\\site-packages (from httpx==0.13.3->googletrans) (3.0.4)\n",
      "Collecting sniffio\n",
      "  Downloading sniffio-1.2.0-py3-none-any.whl (10 kB)\n",
      "Requirement already satisfied: idna==2.* in c:\\users\\boini\\anaconda3\\envs\\tensorflow\\lib\\site-packages (from httpx==0.13.3->googletrans) (2.10)\n",
      "Collecting hstspreload\n",
      "  Downloading hstspreload-2020.10.20-py3-none-any.whl (972 kB)\n",
      "Collecting httpcore==0.9.*\n",
      "  Using cached httpcore-0.9.1-py3-none-any.whl (42 kB)\n",
      "Collecting h2==3.*\n",
      "  Using cached h2-3.2.0-py2.py3-none-any.whl (65 kB)\n",
      "Collecting h11<0.10,>=0.8\n",
      "  Using cached h11-0.9.0-py2.py3-none-any.whl (53 kB)\n",
      "Collecting hpack<4,>=3.0\n",
      "  Using cached hpack-3.0.0-py2.py3-none-any.whl (38 kB)\n",
      "Collecting hyperframe<6,>=5.2.0\n",
      "  Using cached hyperframe-5.2.0-py2.py3-none-any.whl (12 kB)\n",
      "\n",
      "Installing collected packages: rfc3986, sniffio, hstspreload, hpack, hyperframe, h2, h11, httpcore, httpx, googletrans\n",
      "Successfully installed googletrans-3.0.0 h11-0.9.0 h2-3.2.0 hpack-3.0.0 hstspreload-2020.10.20 httpcore-0.9.1 httpx-0.13.3 hyperframe-5.2.0 rfc3986-1.4.0 sniffio-1.2.0\n"
     ]
    }
   ],
   "source": [
    "pip install googletrans"
   ]
  },
  {
   "cell_type": "code",
   "execution_count": 2,
   "metadata": {},
   "outputs": [
    {
     "name": "stdout",
     "output_type": "stream",
     "text": [
      "Detected(lang=fr, confidence=0.95565623)\n",
      "Python is an interpreted and high\n",
      "            level that was created in the late 1980s, but it was implemented\n",
      "            in December 1989 by Guido Van Rossum. The word Python comes from the serpent.\n",
      "            Python Surpassed Java Popularity According to Recent StackOverflow Survey\n"
     ]
    }
   ],
   "source": [
    "from googletrans import Translator\n",
    "\n",
    "# taking some text from our website in french language\n",
    "text = '''Python est un langage de programmation interprété et de haut\n",
    "            niveau qui a été créé à la fin des années 1980, mais il a été implémenté\n",
    "            en décembre 1989 par Guido Van Rossum . Le mot Python vient du serpent.\n",
    "            Selon la récente enquête de StackOverflow , Python a dépassé la popularité de Java'''\n",
    "\n",
    "# Creating an instance of Translator to use\n",
    "# Google Translate ajax API\n",
    "translator = Translator()\n",
    "\n",
    "# detect- auto detects language of the input text\n",
    "dt = translator.detect(text)\n",
    "print(dt)\n",
    "\n",
    "# translate()-translates the text from source language to destination language\n",
    "# translate(self, text, dest='en', src='auto', **kwargs)\n",
    "# if we don't specify the dest(destination language) then\n",
    "# it translates to english\n",
    "translated = translator.translate(text)\n",
    "\n",
    "print(translated.text)"
   ]
  },
  {
   "cell_type": "code",
   "execution_count": null,
   "metadata": {},
   "outputs": [],
   "source": []
  }
 ],
 "metadata": {
  "kernelspec": {
   "display_name": "Python 3",
   "language": "python",
   "name": "python3"
  },
  "language_info": {
   "codemirror_mode": {
    "name": "ipython",
    "version": 3
   },
   "file_extension": ".py",
   "mimetype": "text/x-python",
   "name": "python",
   "nbconvert_exporter": "python",
   "pygments_lexer": "ipython3",
   "version": "3.7.7"
  }
 },
 "nbformat": 4,
 "nbformat_minor": 4
}
